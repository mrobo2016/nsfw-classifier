{
 "cells": [
  {
   "cell_type": "markdown",
   "metadata": {},
   "source": [
    "# OPEN with conda env 'nsfw' (tf 1.5)"
   ]
  },
  {
   "cell_type": "code",
   "execution_count": null,
   "metadata": {
    "scrolled": true
   },
   "outputs": [],
   "source": [
    "# OPEN with conda env 'nsfw' (tf 1.5)\n",
    "# !pip install --upgrade nudenet\n",
    "# tf version == 1.15.2 \n",
    "\n",
    "from nudenet import NudeClassifier"
   ]
  },
  {
   "cell_type": "code",
   "execution_count": null,
   "metadata": {},
   "outputs": [],
   "source": [
    "import tensorflow as tf\n",
    "tf.__version__"
   ]
  },
  {
   "cell_type": "markdown",
   "metadata": {},
   "source": [
    "# 사진에 중요부위 box 필터 + safe/warning label "
   ]
  },
  {
   "cell_type": "code",
   "execution_count": null,
   "metadata": {},
   "outputs": [],
   "source": [
    "# Import module\n",
    "from nudenet import NudeDetector\n",
    "import matplotlib.pyplot as plt\n",
    "import matplotlib.patches as patches\n",
    "\n",
    "from PIL import Image\n",
    "import numpy as np\n",
    "\n",
    "\n",
    "# initialize detector (downloads the checkpoint file automatically the first time)\n",
    "detector = NudeDetector() # detector = NudeDetector('base') for the \"base\" version of detector.\n",
    "\n",
    "# https://github.com/notAI-tech/NudeNet\n",
    "show_ok = ['FACE_F', 'FACE_M', 'EXPOSED_BELLY', 'COVERED_GENITALIA_F','EXPOSED_ARMPITS']\n",
    "\n",
    "\n",
    "# Detect single image\n",
    "chosen = [8,9,10,11,12]\n",
    "for i in range (len(img_list)):\n",
    "    p = \"/home/mrobo-3/KimJungHwan/nsfw_final_images/\"+img_list[i] +\".png\"\n",
    "    print(detector.detect(p))\n",
    "    print(classifier.classify(p))\n",
    "    \n",
    "\n",
    "    image = mpimg.imread(p)\n",
    "    plt.imshow(image)\n",
    "\n",
    "    # Get the current reference\n",
    "    ax = plt.gca()\n",
    "    for box in detector.detect(p):\n",
    "        if(box['label'] not in show_ok):\n",
    "            box_cor = box['box']\n",
    "\n",
    "            # Create a Rectangle patch\n",
    "            rect = patches.Rectangle((box_cor[0], box_cor[1]), box_cor[2]-box_cor[0], box_cor[3]-box_cor[1],linewidth=1,edgecolor='r',facecolor='r')\n",
    "\n",
    "            # Add the patch to the Axes\n",
    "            ax.add_patch(rect)\n",
    "\n",
    "\n",
    "    # build a rectangle in axes coords\n",
    "    left, width = .25, .5\n",
    "    bottom, height = .25, .5\n",
    "    right = left + width\n",
    "    top = bottom + height\n",
    "\n",
    "\n",
    "    plt.xticks([]) # x축 눈금\n",
    "    plt.yticks([]) # y축 눈금\n",
    "    \n",
    "    \"\"\" TEXT 입히기\n",
    "    ax.text(0, 0, 'SAFE',\n",
    "            horizontalalignment='left',\n",
    "            verticalalignment='top',\n",
    "            color='blue',\n",
    "            fontsize = 30,\n",
    "            transform=ax.transAxes)\n",
    "    \"\"\"\n",
    "    \n",
    "    plt.show() \n",
    "    # plt.savefig(\"/home/mrobo-3/KimJungHwan/nsfw_final_images/\"+img_list[i] +\"ffsa.png\",bbox_inches = 'tight', pad_inches = 0)\n",
    "    plt.clf()\n",
    "\n",
    "    # fast mode is ~3x faster compared to default mode with slightly lower accuracy."
   ]
  },
  {
   "cell_type": "markdown",
   "metadata": {},
   "source": [
    "# 모자이크 Box 좌표 test"
   ]
  },
  {
   "cell_type": "code",
   "execution_count": null,
   "metadata": {},
   "outputs": [],
   "source": [
    "for i in range(10):\n",
    "    p = \"/home/mrobo-3/KimJungHwan/nsfw_final_images/\"+img_list[i] +\".png\" \n",
    "    print(detector.detect(p))\n",
    "    for box in detector.detect(p):\n",
    "        print(box['box'])"
   ]
  },
  {
   "cell_type": "markdown",
   "metadata": {},
   "source": [
    "# train generator 의 이미지 보는법;"
   ]
  },
  {
   "cell_type": "code",
   "execution_count": null,
   "metadata": {
    "scrolled": true
   },
   "outputs": [],
   "source": [
    "import io\n",
    "from PIL import Image\n",
    "print(\"train_generator에서 사진 경로, ->    .filepaths 에서 [0] 번째\")\n",
    "print('/home/mrobo-3/SuWan/Train_Data/nude_sexy_safe_v1_x320/training/safe/facebook_27947.jpg')\n",
    "print\n",
    "print(\"train_generator에서 라벨,     ->    .labels 에서 [0] 번째\")\n",
    "print\n",
    "print(\"사진 가져오기\")\n",
    "\n",
    "image_loc = '/home/mrobo-3/SuWan/Train_Data/nude_sexy_safe_v1_x320/training/safe/facebook_27947.jpg'\n",
    "byteImgIO = io.BytesIO()\n",
    "byteImg = Image.open(image_loc)\n",
    "byteImg.save(byteImgIO, \"PNG\")\n",
    "byteImgIO.seek(0)\n",
    "byteImg = byteImgIO.read()\n",
    "\n",
    "# Non test code\n",
    "dataBytesIO = io.BytesIO(byteImg)\n",
    "Image.open(dataBytesIO)"
   ]
  },
  {
   "cell_type": "code",
   "execution_count": null,
   "metadata": {},
   "outputs": [],
   "source": []
  },
  {
   "cell_type": "markdown",
   "metadata": {},
   "source": [
    "# Load Telegram and chat_id"
   ]
  },
  {
   "cell_type": "code",
   "execution_count": null,
   "metadata": {},
   "outputs": [],
   "source": [
    "!pip3 install python-telegram-bot --upgrade\n",
    "from telegram.ext import Updater, CommandHandler\n",
    "import requests\n",
    "import re\n",
    "import telegram\n",
    "\n",
    "token = 'XXXXXXXXXXXXXXXXXXXXXXXXXXXXXXXXXXXXXXXx'\n",
    "\n",
    "bot = telegram.Bot(token = token)\n",
    "\n",
    "updates = bot.getUpdates()\n",
    "for u in updates:\n",
    "    print(u.message)\n",
    "\n",
    "chat_id = bot.getUpdates()[-1].message.chat.id #가장 최근에 온 메세지의 chat id를 가져옵니다\n",
    "\n",
    "bot.sendMessage(chat_id = chat_id, text=\"hello user\")\n",
    "print(\"chat-id : \" + str(chat_id))"
   ]
  },
  {
   "cell_type": "markdown",
   "metadata": {},
   "source": [
    "# LOAD IMAGE FROM FOLDER"
   ]
  },
  {
   "cell_type": "code",
   "execution_count": null,
   "metadata": {},
   "outputs": [],
   "source": [
    "!pip install glob3"
   ]
  },
  {
   "cell_type": "markdown",
   "metadata": {},
   "source": [
    "# Load Dataset Image"
   ]
  },
  {
   "cell_type": "code",
   "execution_count": null,
   "metadata": {},
   "outputs": [],
   "source": [
    "# jpeg인 이미지를 가지고 온다, 폴더명을 training, test 와 safe, unsafe \n",
    "import glob\n",
    "\n",
    "data_dir = '/home/mrobo-3/KimJungHwan/nsfw_images/'\n",
    "\n",
    "img_list = glob.glob(data_dir +\"*.jpeg\")               \n",
    "\n",
    "print(\"LOAD OK: found \"+ str(len(img_list)) +\" images\")"
   ]
  },
  {
   "cell_type": "markdown",
   "metadata": {},
   "source": [
    "# Load show_case Image"
   ]
  },
  {
   "cell_type": "code",
   "execution_count": null,
   "metadata": {},
   "outputs": [],
   "source": [
    "import pandas as pd\n",
    "df = pd.read_csv(\"Warning_Safe_Article_3.csv\", header=None)\n",
    "img_list = df[2]\n",
    "df.head()\n",
    "df[3]"
   ]
  },
  {
   "cell_type": "code",
   "execution_count": null,
   "metadata": {},
   "outputs": [],
   "source": [
    "# use classifier\n",
    "import matplotlib.pyplot as plt\n",
    "from time import sleep\n",
    "import matplotlib.image as mpimg\n",
    "from nudenet import NudeClassifier\n",
    "\n",
    "classifier = NudeClassifier()\n",
    "\n",
    "sleep(20)\n",
    "\n",
    "# classify image\n",
    "for i in range (0, len(img_list)):\n",
    "    image_path = \"/home/mrobo-3/KimJungHwan/nsfw_final_images/\"+img_list[i] +\".png\"\n",
    "    nsfw_score = classifier.classify(image_path)\n",
    "    print(nsfw_score)\n",
    "    nsfw_score = nsfw_score[image_path]\n",
    "    nsfw_score_safe = nsfw_score['safe']\n",
    "    nsfw_score_unsafe = nsfw_score['unsafe']\n",
    "    image = mpimg.imread(image_path)\n",
    "    \n",
    "    #plt.imshow(image)\n",
    "    #plt.show()\n",
    "    \n",
    "    \n",
    "  \n",
    "    # clear\n",
    "\n",
    "    # bot send messages\n",
    "    #bot.sendPhoto(chat_id = chat_id, photo = img_list[i], caption = \"photo caption\")\n",
    "    bot.sendMessage(chat_id = chat_id, text= \".\\n.\\n.\\n.\\n.\\n.\\n.\\n.\\n.\\n.\\n.\\n.\\n.\\n.\\n.\\n.\\n.\\n.\\n.\\n.\\n.\\n.\\n.\\n.\\n.\\n.\\n.\\n.\\n.\\n.\\n.\\n.\\n.\\n.\\n.\\n.\\n.\\n.\\n.\\n.\\n.\\n.\\n.\\n.\\n.\\n.\\n.\\n.\\n.\\n.\\n.\\n.\\n.\\n.\\n.\\n.\\n.\\n.\\n.\\n.\\n.\\n.\\n🤖기사 내용, 사진을 가지고 오는 중입니다.🤖\")\n",
    "\n",
    "    bot.sendPhoto(chat_id = chat_id, photo = open(image_path, 'rb'), caption = \"기사: \" + df[3][i])\n",
    "    bot.sendMessage(chat_id = chat_id, text= df[4][i] + \"\\n\")\n",
    "\n",
    "    bot.sendMessage(chat_id = chat_id, text= \"🤖유해 이미지 차단 봇이 기사의 사진을 분석 중입니다.🤖\")\n",
    "    \n",
    "    sleep(5)\n",
    "    \n",
    "    # 판별:\n",
    "\n",
    "    if(nsfw_score_unsafe > 0.5):\n",
    "        bot.sendPhoto(chat_id = chat_id, photo = open(\"/home/mrobo-3/KimJungHwan/nsfw_final_images/\"+img_list[i] +\"ff.png\", 'rb'))\n",
    "        bot.sendMessage(chat_id = chat_id, text= \"🟥이 사진은 주의가 필요합니다.🟥\")\n",
    "    else:\n",
    "        bot.sendPhoto(chat_id = chat_id, photo = open(\"/home/mrobo-3/KimJungHwan/nsfw_final_images/\"+img_list[i] +\"ffsa.png\", 'rb'))\n",
    "        bot.sendMessage(chat_id = chat_id, text= \"🔵이 사진은 유해 이미지가 아닙니다.🔵\")\n",
    "    \n",
    "    sleep(3)\n",
    "\n",
    "\n",
    "    print(\"Image \" +str(i+1) +\" sent.\")\n"
   ]
  },
  {
   "cell_type": "code",
   "execution_count": null,
   "metadata": {},
   "outputs": [],
   "source": [
    "classifier.classify(img_list[0])[img_list[0]]['s']"
   ]
  },
  {
   "cell_type": "code",
   "execution_count": null,
   "metadata": {},
   "outputs": [],
   "source": []
  },
  {
   "cell_type": "code",
   "execution_count": null,
   "metadata": {},
   "outputs": [],
   "source": []
  }
 ],
 "metadata": {
  "kernelspec": {
   "display_name": "Python 3",
   "language": "python",
   "name": "python3"
  },
  "language_info": {
   "codemirror_mode": {
    "name": "ipython",
    "version": 3
   },
   "file_extension": ".py",
   "mimetype": "text/x-python",
   "name": "python",
   "nbconvert_exporter": "python",
   "pygments_lexer": "ipython3",
   "version": "3.7.4"
  }
 },
 "nbformat": 4,
 "nbformat_minor": 4
}
